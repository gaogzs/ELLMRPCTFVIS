{
 "cells": [
  {
   "cell_type": "code",
   "execution_count": null,
   "id": "6fde95c3",
   "metadata": {},
   "outputs": [],
   "source": [
    "import pandas as pd\n",
    "\n",
    "hanna_file_dir = \"hanna_stories_annotations.csv\"\n",
    "df_full = pd.read_csv(hanna_file_dir)\n",
    "df_stories = df_full[[\"Story ID\", \"Story\"]].drop_duplicates(subset=[\"Story ID\"]).rename(\n",
    "    columns={\"Story ID\": \"narrative_id\", \"Story\": \"narrative\"}\n",
    ")\n",
    "df_annotations = df_full[[\"Story ID\", \"Coherence\"]].rename(\n",
    "    columns={\"Story ID\": \"narrative_id\", \"Coherence\": \"consistency\"}\n",
    ")\n",
    "\n",
    "df_stories.to_csv(\"hanna_stories.csv\", index=False)\n",
    "df_annotations.to_csv(\"hanna_annotations.csv\", index=False)"
   ]
  }
 ],
 "metadata": {
  "kernelspec": {
   "display_name": "Python 3",
   "language": "python",
   "name": "python3"
  },
  "language_info": {
   "codemirror_mode": {
    "name": "ipython",
    "version": 3
   },
   "file_extension": ".py",
   "mimetype": "text/x-python",
   "name": "python",
   "nbconvert_exporter": "python",
   "pygments_lexer": "ipython3",
   "version": "3.12.9"
  }
 },
 "nbformat": 4,
 "nbformat_minor": 5
}
